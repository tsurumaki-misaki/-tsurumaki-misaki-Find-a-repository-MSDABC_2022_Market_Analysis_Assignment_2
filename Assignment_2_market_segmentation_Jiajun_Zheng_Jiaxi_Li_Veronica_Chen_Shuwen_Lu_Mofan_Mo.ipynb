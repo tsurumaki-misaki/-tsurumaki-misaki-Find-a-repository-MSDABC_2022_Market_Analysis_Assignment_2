{
 "cells": [
  {
   "cell_type": "markdown",
   "metadata": {},
   "source": [
    "# Q1: Unsupervised Learning"
   ]
  },
  {
   "cell_type": "code",
   "execution_count": 5,
   "metadata": {},
   "outputs": [
    {
     "name": "stdout",
     "output_type": "stream",
     "text": [
      "Collecting numpy\n",
      "  Downloading numpy-1.23.4-cp38-cp38-macosx_10_9_x86_64.whl (18.1 MB)\n",
      "\u001b[K     |████████████████████████████████| 18.1 MB 189 kB/s eta 0:00:01\n",
      "\u001b[?25hInstalling collected packages: numpy\n",
      "  Attempting uninstall: numpy\n",
      "    Found existing installation: numpy 1.19.2\n",
      "    Uninstalling numpy-1.19.2:\n",
      "      Successfully uninstalled numpy-1.19.2\n",
      "\u001b[31mERROR: After October 2020 you may experience errors when installing or updating packages. This is because pip will change the way that it resolves dependency conflicts.\n",
      "\n",
      "We recommend you use --use-feature=2020-resolver to test your packages with the new resolver before it becomes the default.\n",
      "\n",
      "yellowbrick 1.3.post1 requires numpy<1.20,>=1.16.0, but you'll have numpy 1.23.4 which is incompatible.\n",
      "tensorflow 2.5.0 requires numpy~=1.19.2, but you'll have numpy 1.23.4 which is incompatible.\n",
      "statsmodels 0.13.5 requires packaging>=21.3, but you'll have packaging 20.4 which is incompatible.\n",
      "statsmodels 0.13.5 requires patsy>=0.5.2, but you'll have patsy 0.5.1 which is incompatible.\n",
      "scikit-learn 1.1.2 requires joblib>=1.0.0, but you'll have joblib 0.17.0 which is incompatible.\u001b[0m\n",
      "Successfully installed numpy-1.23.4\n"
     ]
    }
   ],
   "source": [
    "! pip install --upgrade numpy "
   ]
  },
  {
   "cell_type": "code",
   "execution_count": 2,
   "metadata": {},
   "outputs": [
    {
     "name": "stderr",
     "output_type": "stream",
     "text": [
      "/opt/anaconda3/lib/python3.8/site-packages/pandas/core/computation/expressions.py:20: UserWarning: Pandas requires version '2.7.3' or newer of 'numexpr' (version '2.7.1' currently installed).\n",
      "  from pandas.core.computation.check import NUMEXPR_INSTALLED\n"
     ]
    }
   ],
   "source": [
    "import pandas as pd\n",
    "import numpy as np\n",
    "import random as rd\n",
    "import seaborn as sns\n",
    "import matplotlib.pyplot as plt\n",
    "from sklearn.cluster import KMeans\n",
    "from sklearn.preprocessing import StandardScaler, OneHotEncoder\n",
    "from sklearn.model_selection import train_test_split\n"
   ]
  },
  {
   "cell_type": "code",
   "execution_count": 3,
   "metadata": {},
   "outputs": [
    {
     "name": "stdout",
     "output_type": "stream",
     "text": [
      "  ticket_id      order_timestamp  location item_name  item_count        lat  \\\n",
      "0  0x872a40  2019-02-28 18:33:00         4     shake           2  41.889047   \n",
      "1  0x872a40  2019-02-28 18:33:00         4    burger           2  41.889047   \n",
      "2  0x872a40  2019-02-28 18:33:00         4     fries           2  41.889047   \n",
      "3  0x598eb3  2019-09-18 11:59:00         5    burger           1  41.881818   \n",
      "4  0x598eb3  2019-09-18 11:59:00         5     salad           2  41.881818   \n",
      "\n",
      "        long  \n",
      "0 -87.803605  \n",
      "1 -87.803605  \n",
      "2 -87.803605  \n",
      "3 -87.640234  \n",
      "4 -87.640234  \n",
      "            location     item_count            lat           long\n",
      "count  260741.000000  260741.000000  260741.000000  260741.000000\n",
      "mean        5.128123       2.446424      41.836145     -87.733627\n",
      "std         2.557513       1.330490       0.144791       0.135937\n",
      "min         1.000000       1.000000      41.524598     -88.010140\n",
      "25%         3.000000       1.000000      41.784576     -87.849468\n",
      "50%         5.000000       2.000000      41.881818     -87.677606\n",
      "75%         7.000000       4.000000      41.889047     -87.627059\n",
      "max         9.000000       5.000000      42.049306     -87.607565\n",
      "ticket_id           object\n",
      "order_timestamp     object\n",
      "location             int64\n",
      "item_name           object\n",
      "item_count           int64\n",
      "lat                float64\n",
      "long               float64\n",
      "dtype: object\n",
      "ticket_id          0\n",
      "order_timestamp    0\n",
      "location           0\n",
      "item_name          0\n",
      "item_count         0\n",
      "lat                0\n",
      "long               0\n",
      "dtype: int64\n"
     ]
    }
   ],
   "source": [
    "#Load Data\n",
    "df = pd.read_csv('transactions_n100000.csv')\n",
    "\n",
    "print(df.head())\n",
    "print(df.describe())\n",
    "print(df.dtypes)\n",
    "\n",
    "\n",
    "print(df.isnull().sum())\n",
    "\n",
    "#scanning the dataset\n"
   ]
  },
  {
   "cell_type": "code",
   "execution_count": 4,
   "metadata": {},
   "outputs": [],
   "source": [
    "df['month'] = pd.DatetimeIndex(df['order_timestamp']).month\n",
    "df['hour'] = pd.DatetimeIndex(df['order_timestamp']).hour"
   ]
  },
  {
   "cell_type": "code",
   "execution_count": 4,
   "metadata": {},
   "outputs": [
    {
     "data": {
      "text/html": [
       "<div>\n",
       "<style scoped>\n",
       "    .dataframe tbody tr th:only-of-type {\n",
       "        vertical-align: middle;\n",
       "    }\n",
       "\n",
       "    .dataframe tbody tr th {\n",
       "        vertical-align: top;\n",
       "    }\n",
       "\n",
       "    .dataframe thead th {\n",
       "        text-align: right;\n",
       "    }\n",
       "</style>\n",
       "<table border=\"1\" class=\"dataframe\">\n",
       "  <thead>\n",
       "    <tr style=\"text-align: right;\">\n",
       "      <th></th>\n",
       "      <th>ticket_id</th>\n",
       "      <th>order_timestamp</th>\n",
       "      <th>location</th>\n",
       "      <th>item_name</th>\n",
       "      <th>item_count</th>\n",
       "      <th>lat</th>\n",
       "      <th>long</th>\n",
       "      <th>month</th>\n",
       "      <th>hour</th>\n",
       "    </tr>\n",
       "  </thead>\n",
       "  <tbody>\n",
       "    <tr>\n",
       "      <th>0</th>\n",
       "      <td>0x872a40</td>\n",
       "      <td>2019-02-28 18:33:00</td>\n",
       "      <td>4</td>\n",
       "      <td>shake</td>\n",
       "      <td>2</td>\n",
       "      <td>41.889047</td>\n",
       "      <td>-87.803605</td>\n",
       "      <td>2</td>\n",
       "      <td>18</td>\n",
       "    </tr>\n",
       "    <tr>\n",
       "      <th>1</th>\n",
       "      <td>0x872a40</td>\n",
       "      <td>2019-02-28 18:33:00</td>\n",
       "      <td>4</td>\n",
       "      <td>burger</td>\n",
       "      <td>2</td>\n",
       "      <td>41.889047</td>\n",
       "      <td>-87.803605</td>\n",
       "      <td>2</td>\n",
       "      <td>18</td>\n",
       "    </tr>\n",
       "    <tr>\n",
       "      <th>2</th>\n",
       "      <td>0x872a40</td>\n",
       "      <td>2019-02-28 18:33:00</td>\n",
       "      <td>4</td>\n",
       "      <td>fries</td>\n",
       "      <td>2</td>\n",
       "      <td>41.889047</td>\n",
       "      <td>-87.803605</td>\n",
       "      <td>2</td>\n",
       "      <td>18</td>\n",
       "    </tr>\n",
       "    <tr>\n",
       "      <th>3</th>\n",
       "      <td>0x598eb3</td>\n",
       "      <td>2019-09-18 11:59:00</td>\n",
       "      <td>5</td>\n",
       "      <td>burger</td>\n",
       "      <td>1</td>\n",
       "      <td>41.881818</td>\n",
       "      <td>-87.640234</td>\n",
       "      <td>9</td>\n",
       "      <td>11</td>\n",
       "    </tr>\n",
       "    <tr>\n",
       "      <th>4</th>\n",
       "      <td>0x598eb3</td>\n",
       "      <td>2019-09-18 11:59:00</td>\n",
       "      <td>5</td>\n",
       "      <td>salad</td>\n",
       "      <td>2</td>\n",
       "      <td>41.881818</td>\n",
       "      <td>-87.640234</td>\n",
       "      <td>9</td>\n",
       "      <td>11</td>\n",
       "    </tr>\n",
       "    <tr>\n",
       "      <th>...</th>\n",
       "      <td>...</td>\n",
       "      <td>...</td>\n",
       "      <td>...</td>\n",
       "      <td>...</td>\n",
       "      <td>...</td>\n",
       "      <td>...</td>\n",
       "      <td>...</td>\n",
       "      <td>...</td>\n",
       "      <td>...</td>\n",
       "    </tr>\n",
       "    <tr>\n",
       "      <th>260736</th>\n",
       "      <td>0x3c0582</td>\n",
       "      <td>2019-05-27 17:06:00</td>\n",
       "      <td>9</td>\n",
       "      <td>burger</td>\n",
       "      <td>3</td>\n",
       "      <td>41.524598</td>\n",
       "      <td>-87.849468</td>\n",
       "      <td>5</td>\n",
       "      <td>17</td>\n",
       "    </tr>\n",
       "    <tr>\n",
       "      <th>260737</th>\n",
       "      <td>0x3c0582</td>\n",
       "      <td>2019-05-27 17:06:00</td>\n",
       "      <td>9</td>\n",
       "      <td>salad</td>\n",
       "      <td>1</td>\n",
       "      <td>41.524598</td>\n",
       "      <td>-87.849468</td>\n",
       "      <td>5</td>\n",
       "      <td>17</td>\n",
       "    </tr>\n",
       "    <tr>\n",
       "      <th>260738</th>\n",
       "      <td>0x3c0582</td>\n",
       "      <td>2019-05-27 17:06:00</td>\n",
       "      <td>9</td>\n",
       "      <td>fries</td>\n",
       "      <td>4</td>\n",
       "      <td>41.524598</td>\n",
       "      <td>-87.849468</td>\n",
       "      <td>5</td>\n",
       "      <td>17</td>\n",
       "    </tr>\n",
       "    <tr>\n",
       "      <th>260739</th>\n",
       "      <td>0x104597</td>\n",
       "      <td>2019-12-10 00:25:00</td>\n",
       "      <td>2</td>\n",
       "      <td>burger</td>\n",
       "      <td>3</td>\n",
       "      <td>42.049306</td>\n",
       "      <td>-87.677606</td>\n",
       "      <td>12</td>\n",
       "      <td>0</td>\n",
       "    </tr>\n",
       "    <tr>\n",
       "      <th>260740</th>\n",
       "      <td>0x104597</td>\n",
       "      <td>2019-12-10 00:25:00</td>\n",
       "      <td>2</td>\n",
       "      <td>fries</td>\n",
       "      <td>3</td>\n",
       "      <td>42.049306</td>\n",
       "      <td>-87.677606</td>\n",
       "      <td>12</td>\n",
       "      <td>0</td>\n",
       "    </tr>\n",
       "  </tbody>\n",
       "</table>\n",
       "<p>260741 rows × 9 columns</p>\n",
       "</div>"
      ],
      "text/plain": [
       "       ticket_id      order_timestamp  location item_name  item_count  \\\n",
       "0       0x872a40  2019-02-28 18:33:00         4     shake           2   \n",
       "1       0x872a40  2019-02-28 18:33:00         4    burger           2   \n",
       "2       0x872a40  2019-02-28 18:33:00         4     fries           2   \n",
       "3       0x598eb3  2019-09-18 11:59:00         5    burger           1   \n",
       "4       0x598eb3  2019-09-18 11:59:00         5     salad           2   \n",
       "...          ...                  ...       ...       ...         ...   \n",
       "260736  0x3c0582  2019-05-27 17:06:00         9    burger           3   \n",
       "260737  0x3c0582  2019-05-27 17:06:00         9     salad           1   \n",
       "260738  0x3c0582  2019-05-27 17:06:00         9     fries           4   \n",
       "260739  0x104597  2019-12-10 00:25:00         2    burger           3   \n",
       "260740  0x104597  2019-12-10 00:25:00         2     fries           3   \n",
       "\n",
       "              lat       long  month  hour  \n",
       "0       41.889047 -87.803605      2    18  \n",
       "1       41.889047 -87.803605      2    18  \n",
       "2       41.889047 -87.803605      2    18  \n",
       "3       41.881818 -87.640234      9    11  \n",
       "4       41.881818 -87.640234      9    11  \n",
       "...           ...        ...    ...   ...  \n",
       "260736  41.524598 -87.849468      5    17  \n",
       "260737  41.524598 -87.849468      5    17  \n",
       "260738  41.524598 -87.849468      5    17  \n",
       "260739  42.049306 -87.677606     12     0  \n",
       "260740  42.049306 -87.677606     12     0  \n",
       "\n",
       "[260741 rows x 9 columns]"
      ]
     },
     "execution_count": 4,
     "metadata": {},
     "output_type": "execute_result"
    }
   ],
   "source": [
    "df"
   ]
  },
  {
   "cell_type": "code",
   "execution_count": 5,
   "metadata": {},
   "outputs": [
    {
     "name": "stdout",
     "output_type": "stream",
     "text": [
      "  ticket_id      order_timestamp  location item_name  item_count  \\\n",
      "0  0x872a40  2019-02-28 18:33:00         4     shake           2   \n",
      "1  0x872a40  2019-02-28 18:33:00         4    burger           2   \n",
      "2  0x872a40  2019-02-28 18:33:00         4     fries           2   \n",
      "3  0x598eb3  2019-09-18 11:59:00         5    burger           1   \n",
      "4  0x598eb3  2019-09-18 11:59:00         5     salad           2   \n",
      "\n",
      "                                        lat       long  month  hour  \n",
      "0  1124 Lake St STE 510, Oak Park, IL 60301 -87.803605      2    18  \n",
      "1  1124 Lake St STE 510, Oak Park, IL 60301 -87.803605      2    18  \n",
      "2  1124 Lake St STE 510, Oak Park, IL 60301 -87.803605      2    18  \n",
      "3   462-514 W Madison St, Chicago, IL 60661 -87.640234      9    11  \n",
      "4   462-514 W Madison St, Chicago, IL 60661 -87.640234      9    11  \n",
      "ticket_id           object\n",
      "order_timestamp     object\n",
      "location             int64\n",
      "item_name           object\n",
      "item_count           int64\n",
      "lat                 object\n",
      "long               float64\n",
      "month                int64\n",
      "hour                 int64\n",
      "dtype: object\n",
      "0                1124 Lake St STE 510, Oak Park, IL 60301\n",
      "1                1124 Lake St STE 510, Oak Park, IL 60301\n",
      "2                1124 Lake St STE 510, Oak Park, IL 60301\n",
      "3                 462-514 W Madison St, Chicago, IL 60661\n",
      "4                 462-514 W Madison St, Chicago, IL 60661\n",
      "                               ...                       \n",
      "260736    20091 South La Grange Road, Frankfort, IL 60423\n",
      "260737    20091 South La Grange Road, Frankfort, IL 60423\n",
      "260738    20091 South La Grange Road, Frankfort, IL 60423\n",
      "260739               598-560 Clark St, Evanston, IL 60201\n",
      "260740               598-560 Clark St, Evanston, IL 60201\n",
      "Name: lat, Length: 260741, dtype: object\n"
     ]
    }
   ],
   "source": [
    "#encode the location in terms of latitude \n",
    "#since latitude and longtitude have a relation of one-to-one correspondence, here we only use latitude to mark the location\n",
    "location_values = {41.889047:\"1124 Lake St STE 510, Oak Park, IL 60301\",\n",
    "                  41.524598:'20091 South La Grange Road, Frankfort, IL 60423',\n",
    "                  41.784576:'6014 S Cottage Grove Ave, Chicago, IL 60637',\n",
    "                  41.794132:'5127 Main St, Downers Grove, IL 60515',\n",
    "                  41.880844:'S Clark St, Chicago, IL 60603',\n",
    "                  41.881818:'462-514 W Madison St, Chicago, IL 60661',\n",
    "                  41.88449:'20b E Randolph St, Chicago, IL 60601',\n",
    "                  41.894202:'259 E Erie St, Chicago, IL 60611',\n",
    "                  42.049306:'598-560 Clark St, Evanston, IL 60201'}\n",
    "df.lat = df.lat.map(location_values)\n",
    "print(df.head())\n",
    "print(df.dtypes)\n",
    "print(df.lat)"
   ]
  },
  {
   "cell_type": "code",
   "execution_count": 6,
   "metadata": {},
   "outputs": [
    {
     "data": {
      "text/html": [
       "<div>\n",
       "<style scoped>\n",
       "    .dataframe tbody tr th:only-of-type {\n",
       "        vertical-align: middle;\n",
       "    }\n",
       "\n",
       "    .dataframe tbody tr th {\n",
       "        vertical-align: top;\n",
       "    }\n",
       "\n",
       "    .dataframe thead th {\n",
       "        text-align: right;\n",
       "    }\n",
       "</style>\n",
       "<table border=\"1\" class=\"dataframe\">\n",
       "  <thead>\n",
       "    <tr style=\"text-align: right;\">\n",
       "      <th></th>\n",
       "      <th>ticket_id</th>\n",
       "      <th>order_timestamp</th>\n",
       "      <th>location</th>\n",
       "      <th>item_name</th>\n",
       "      <th>item_count</th>\n",
       "      <th>lat</th>\n",
       "      <th>long</th>\n",
       "      <th>month</th>\n",
       "      <th>hour</th>\n",
       "    </tr>\n",
       "  </thead>\n",
       "  <tbody>\n",
       "    <tr>\n",
       "      <th>0</th>\n",
       "      <td>0x872a40</td>\n",
       "      <td>2019-02-28 18:33:00</td>\n",
       "      <td>4</td>\n",
       "      <td>shake</td>\n",
       "      <td>2</td>\n",
       "      <td>1124 Lake St STE 510, Oak Park, IL 60301</td>\n",
       "      <td>-87.803605</td>\n",
       "      <td>2</td>\n",
       "      <td>18</td>\n",
       "    </tr>\n",
       "    <tr>\n",
       "      <th>1</th>\n",
       "      <td>0x872a40</td>\n",
       "      <td>2019-02-28 18:33:00</td>\n",
       "      <td>4</td>\n",
       "      <td>burger</td>\n",
       "      <td>2</td>\n",
       "      <td>1124 Lake St STE 510, Oak Park, IL 60301</td>\n",
       "      <td>-87.803605</td>\n",
       "      <td>2</td>\n",
       "      <td>18</td>\n",
       "    </tr>\n",
       "    <tr>\n",
       "      <th>2</th>\n",
       "      <td>0x872a40</td>\n",
       "      <td>2019-02-28 18:33:00</td>\n",
       "      <td>4</td>\n",
       "      <td>fries</td>\n",
       "      <td>2</td>\n",
       "      <td>1124 Lake St STE 510, Oak Park, IL 60301</td>\n",
       "      <td>-87.803605</td>\n",
       "      <td>2</td>\n",
       "      <td>18</td>\n",
       "    </tr>\n",
       "    <tr>\n",
       "      <th>3</th>\n",
       "      <td>0x598eb3</td>\n",
       "      <td>2019-09-18 11:59:00</td>\n",
       "      <td>5</td>\n",
       "      <td>burger</td>\n",
       "      <td>1</td>\n",
       "      <td>462-514 W Madison St, Chicago, IL 60661</td>\n",
       "      <td>-87.640234</td>\n",
       "      <td>9</td>\n",
       "      <td>11</td>\n",
       "    </tr>\n",
       "    <tr>\n",
       "      <th>4</th>\n",
       "      <td>0x598eb3</td>\n",
       "      <td>2019-09-18 11:59:00</td>\n",
       "      <td>5</td>\n",
       "      <td>salad</td>\n",
       "      <td>2</td>\n",
       "      <td>462-514 W Madison St, Chicago, IL 60661</td>\n",
       "      <td>-87.640234</td>\n",
       "      <td>9</td>\n",
       "      <td>11</td>\n",
       "    </tr>\n",
       "    <tr>\n",
       "      <th>...</th>\n",
       "      <td>...</td>\n",
       "      <td>...</td>\n",
       "      <td>...</td>\n",
       "      <td>...</td>\n",
       "      <td>...</td>\n",
       "      <td>...</td>\n",
       "      <td>...</td>\n",
       "      <td>...</td>\n",
       "      <td>...</td>\n",
       "    </tr>\n",
       "    <tr>\n",
       "      <th>260736</th>\n",
       "      <td>0x3c0582</td>\n",
       "      <td>2019-05-27 17:06:00</td>\n",
       "      <td>9</td>\n",
       "      <td>burger</td>\n",
       "      <td>3</td>\n",
       "      <td>20091 South La Grange Road, Frankfort, IL 60423</td>\n",
       "      <td>-87.849468</td>\n",
       "      <td>5</td>\n",
       "      <td>17</td>\n",
       "    </tr>\n",
       "    <tr>\n",
       "      <th>260737</th>\n",
       "      <td>0x3c0582</td>\n",
       "      <td>2019-05-27 17:06:00</td>\n",
       "      <td>9</td>\n",
       "      <td>salad</td>\n",
       "      <td>1</td>\n",
       "      <td>20091 South La Grange Road, Frankfort, IL 60423</td>\n",
       "      <td>-87.849468</td>\n",
       "      <td>5</td>\n",
       "      <td>17</td>\n",
       "    </tr>\n",
       "    <tr>\n",
       "      <th>260738</th>\n",
       "      <td>0x3c0582</td>\n",
       "      <td>2019-05-27 17:06:00</td>\n",
       "      <td>9</td>\n",
       "      <td>fries</td>\n",
       "      <td>4</td>\n",
       "      <td>20091 South La Grange Road, Frankfort, IL 60423</td>\n",
       "      <td>-87.849468</td>\n",
       "      <td>5</td>\n",
       "      <td>17</td>\n",
       "    </tr>\n",
       "    <tr>\n",
       "      <th>260739</th>\n",
       "      <td>0x104597</td>\n",
       "      <td>2019-12-10 00:25:00</td>\n",
       "      <td>2</td>\n",
       "      <td>burger</td>\n",
       "      <td>3</td>\n",
       "      <td>598-560 Clark St, Evanston, IL 60201</td>\n",
       "      <td>-87.677606</td>\n",
       "      <td>12</td>\n",
       "      <td>0</td>\n",
       "    </tr>\n",
       "    <tr>\n",
       "      <th>260740</th>\n",
       "      <td>0x104597</td>\n",
       "      <td>2019-12-10 00:25:00</td>\n",
       "      <td>2</td>\n",
       "      <td>fries</td>\n",
       "      <td>3</td>\n",
       "      <td>598-560 Clark St, Evanston, IL 60201</td>\n",
       "      <td>-87.677606</td>\n",
       "      <td>12</td>\n",
       "      <td>0</td>\n",
       "    </tr>\n",
       "  </tbody>\n",
       "</table>\n",
       "<p>260741 rows × 9 columns</p>\n",
       "</div>"
      ],
      "text/plain": [
       "       ticket_id      order_timestamp  location item_name  item_count  \\\n",
       "0       0x872a40  2019-02-28 18:33:00         4     shake           2   \n",
       "1       0x872a40  2019-02-28 18:33:00         4    burger           2   \n",
       "2       0x872a40  2019-02-28 18:33:00         4     fries           2   \n",
       "3       0x598eb3  2019-09-18 11:59:00         5    burger           1   \n",
       "4       0x598eb3  2019-09-18 11:59:00         5     salad           2   \n",
       "...          ...                  ...       ...       ...         ...   \n",
       "260736  0x3c0582  2019-05-27 17:06:00         9    burger           3   \n",
       "260737  0x3c0582  2019-05-27 17:06:00         9     salad           1   \n",
       "260738  0x3c0582  2019-05-27 17:06:00         9     fries           4   \n",
       "260739  0x104597  2019-12-10 00:25:00         2    burger           3   \n",
       "260740  0x104597  2019-12-10 00:25:00         2     fries           3   \n",
       "\n",
       "                                                    lat       long  month  \\\n",
       "0              1124 Lake St STE 510, Oak Park, IL 60301 -87.803605      2   \n",
       "1              1124 Lake St STE 510, Oak Park, IL 60301 -87.803605      2   \n",
       "2              1124 Lake St STE 510, Oak Park, IL 60301 -87.803605      2   \n",
       "3               462-514 W Madison St, Chicago, IL 60661 -87.640234      9   \n",
       "4               462-514 W Madison St, Chicago, IL 60661 -87.640234      9   \n",
       "...                                                 ...        ...    ...   \n",
       "260736  20091 South La Grange Road, Frankfort, IL 60423 -87.849468      5   \n",
       "260737  20091 South La Grange Road, Frankfort, IL 60423 -87.849468      5   \n",
       "260738  20091 South La Grange Road, Frankfort, IL 60423 -87.849468      5   \n",
       "260739             598-560 Clark St, Evanston, IL 60201 -87.677606     12   \n",
       "260740             598-560 Clark St, Evanston, IL 60201 -87.677606     12   \n",
       "\n",
       "        hour  \n",
       "0         18  \n",
       "1         18  \n",
       "2         18  \n",
       "3         11  \n",
       "4         11  \n",
       "...      ...  \n",
       "260736    17  \n",
       "260737    17  \n",
       "260738    17  \n",
       "260739     0  \n",
       "260740     0  \n",
       "\n",
       "[260741 rows x 9 columns]"
      ]
     },
     "execution_count": 6,
     "metadata": {},
     "output_type": "execute_result"
    }
   ],
   "source": [
    "df"
   ]
  },
  {
   "cell_type": "code",
   "execution_count": 7,
   "metadata": {},
   "outputs": [
    {
     "data": {
      "text/html": [
       "<div>\n",
       "<style scoped>\n",
       "    .dataframe tbody tr th:only-of-type {\n",
       "        vertical-align: middle;\n",
       "    }\n",
       "\n",
       "    .dataframe tbody tr th {\n",
       "        vertical-align: top;\n",
       "    }\n",
       "\n",
       "    .dataframe thead th {\n",
       "        text-align: right;\n",
       "    }\n",
       "</style>\n",
       "<table border=\"1\" class=\"dataframe\">\n",
       "  <thead>\n",
       "    <tr style=\"text-align: right;\">\n",
       "      <th></th>\n",
       "      <th>item_name</th>\n",
       "      <th>item_count</th>\n",
       "      <th>lat</th>\n",
       "      <th>hour</th>\n",
       "    </tr>\n",
       "  </thead>\n",
       "  <tbody>\n",
       "    <tr>\n",
       "      <th>0</th>\n",
       "      <td>shake</td>\n",
       "      <td>2</td>\n",
       "      <td>1124 Lake St STE 510, Oak Park, IL 60301</td>\n",
       "      <td>18</td>\n",
       "    </tr>\n",
       "    <tr>\n",
       "      <th>1</th>\n",
       "      <td>burger</td>\n",
       "      <td>2</td>\n",
       "      <td>1124 Lake St STE 510, Oak Park, IL 60301</td>\n",
       "      <td>18</td>\n",
       "    </tr>\n",
       "    <tr>\n",
       "      <th>2</th>\n",
       "      <td>fries</td>\n",
       "      <td>2</td>\n",
       "      <td>1124 Lake St STE 510, Oak Park, IL 60301</td>\n",
       "      <td>18</td>\n",
       "    </tr>\n",
       "    <tr>\n",
       "      <th>3</th>\n",
       "      <td>burger</td>\n",
       "      <td>1</td>\n",
       "      <td>462-514 W Madison St, Chicago, IL 60661</td>\n",
       "      <td>11</td>\n",
       "    </tr>\n",
       "    <tr>\n",
       "      <th>4</th>\n",
       "      <td>salad</td>\n",
       "      <td>2</td>\n",
       "      <td>462-514 W Madison St, Chicago, IL 60661</td>\n",
       "      <td>11</td>\n",
       "    </tr>\n",
       "    <tr>\n",
       "      <th>...</th>\n",
       "      <td>...</td>\n",
       "      <td>...</td>\n",
       "      <td>...</td>\n",
       "      <td>...</td>\n",
       "    </tr>\n",
       "    <tr>\n",
       "      <th>260736</th>\n",
       "      <td>burger</td>\n",
       "      <td>3</td>\n",
       "      <td>20091 South La Grange Road, Frankfort, IL 60423</td>\n",
       "      <td>17</td>\n",
       "    </tr>\n",
       "    <tr>\n",
       "      <th>260737</th>\n",
       "      <td>salad</td>\n",
       "      <td>1</td>\n",
       "      <td>20091 South La Grange Road, Frankfort, IL 60423</td>\n",
       "      <td>17</td>\n",
       "    </tr>\n",
       "    <tr>\n",
       "      <th>260738</th>\n",
       "      <td>fries</td>\n",
       "      <td>4</td>\n",
       "      <td>20091 South La Grange Road, Frankfort, IL 60423</td>\n",
       "      <td>17</td>\n",
       "    </tr>\n",
       "    <tr>\n",
       "      <th>260739</th>\n",
       "      <td>burger</td>\n",
       "      <td>3</td>\n",
       "      <td>598-560 Clark St, Evanston, IL 60201</td>\n",
       "      <td>0</td>\n",
       "    </tr>\n",
       "    <tr>\n",
       "      <th>260740</th>\n",
       "      <td>fries</td>\n",
       "      <td>3</td>\n",
       "      <td>598-560 Clark St, Evanston, IL 60201</td>\n",
       "      <td>0</td>\n",
       "    </tr>\n",
       "  </tbody>\n",
       "</table>\n",
       "<p>260741 rows × 4 columns</p>\n",
       "</div>"
      ],
      "text/plain": [
       "       item_name  item_count                                              lat  \\\n",
       "0          shake           2         1124 Lake St STE 510, Oak Park, IL 60301   \n",
       "1         burger           2         1124 Lake St STE 510, Oak Park, IL 60301   \n",
       "2          fries           2         1124 Lake St STE 510, Oak Park, IL 60301   \n",
       "3         burger           1          462-514 W Madison St, Chicago, IL 60661   \n",
       "4          salad           2          462-514 W Madison St, Chicago, IL 60661   \n",
       "...          ...         ...                                              ...   \n",
       "260736    burger           3  20091 South La Grange Road, Frankfort, IL 60423   \n",
       "260737     salad           1  20091 South La Grange Road, Frankfort, IL 60423   \n",
       "260738     fries           4  20091 South La Grange Road, Frankfort, IL 60423   \n",
       "260739    burger           3             598-560 Clark St, Evanston, IL 60201   \n",
       "260740     fries           3             598-560 Clark St, Evanston, IL 60201   \n",
       "\n",
       "        hour  \n",
       "0         18  \n",
       "1         18  \n",
       "2         18  \n",
       "3         11  \n",
       "4         11  \n",
       "...      ...  \n",
       "260736    17  \n",
       "260737    17  \n",
       "260738    17  \n",
       "260739     0  \n",
       "260740     0  \n",
       "\n",
       "[260741 rows x 4 columns]"
      ]
     },
     "execution_count": 7,
     "metadata": {},
     "output_type": "execute_result"
    }
   ],
   "source": [
    "X = df.drop(['ticket_id','order_timestamp','long','month','location'],axis=1)\n",
    "X"
   ]
  },
  {
   "cell_type": "code",
   "execution_count": null,
   "metadata": {},
   "outputs": [],
   "source": [
    "one_hot = OneHotEncoder(sparse=False)\n",
    "\n",
    "X = df.drop(['ticket_id','order_timestamp','long','location','month'],axis=1)\n",
    "print(X)\n",
    "\n",
    "\n",
    "#X_train,X_test = train_test_split(X,test_size=0.2, random_state=1234)\n",
    "\n",
    "print(X.describe())\n",
    "\n",
    "cat_feat = list(X.columns[X.dtypes == object])\n",
    "num_feat = list(X.columns[X.dtypes != object])\n",
    "\n",
    "X_cat = X.loc[:,cat_feat] \n",
    "\n",
    "\n",
    "X_num = X.loc[:,num_feat]\n",
    "\n",
    "\n",
    "#X_train_cat = np.array(X_train_cat).reshape(len(X_train_cat),1)\n",
    "#X_test_cat = np.array(X_test_cat).reshape(len(X_test_cat),1)\n",
    "\n",
    "X_cat = pd.DataFrame(one_hot.fit_transform(X_cat))\n",
    "\n",
    "\n",
    "print(X_cat)\n",
    "\n",
    "X_new = pd.concat([X_cat,X_num],axis=1)\n",
    "\n",
    "\n",
    "sc_dfa = StandardScaler()\n",
    "X_new = sc_dfa.fit_transform(X_new.astype(float))\n",
    "\n",
    "X_new = X_new[np.isfinite(X_new).all(1)]"
   ]
  },
  {
   "cell_type": "code",
   "execution_count": null,
   "metadata": {},
   "outputs": [],
   "source": [
    "Sum_of_squared_distances = []\n",
    "K = range(1,10)\n",
    "for num_clusters in K :\n",
    " kmeans = KMeans(n_clusters=num_clusters)\n",
    " kmeans.fit(X_new)\n",
    " Sum_of_squared_distances.append(kmeans.inertia_)\n",
    "plt.plot(K,Sum_of_squared_distances,'bx-')\n",
    "plt.xlabel('Values of K') \n",
    "plt.ylabel('Sum of squared distances/Inertia')\n",
    "plt.title('Elbow Method For Optimal k')\n",
    "plt.show()\n"
   ]
  },
  {
   "cell_type": "markdown",
   "metadata": {},
   "source": [
    "## try to keep the categorical attributes to be more interpretable"
   ]
  },
  {
   "cell_type": "code",
   "execution_count": 8,
   "metadata": {},
   "outputs": [],
   "source": [
    "from kmodes.kprototypes import KPrototypes"
   ]
  },
  {
   "cell_type": "code",
   "execution_count": 9,
   "metadata": {},
   "outputs": [],
   "source": [
    "sc_dfa = StandardScaler()"
   ]
  },
  {
   "cell_type": "code",
   "execution_count": 10,
   "metadata": {},
   "outputs": [],
   "source": [
    "X[[ 'item_count','hour']] = sc_dfa.fit_transform(X[['item_count','hour']])"
   ]
  },
  {
   "cell_type": "code",
   "execution_count": 11,
   "metadata": {
    "scrolled": true
   },
   "outputs": [
    {
     "data": {
      "text/html": [
       "<div>\n",
       "<style scoped>\n",
       "    .dataframe tbody tr th:only-of-type {\n",
       "        vertical-align: middle;\n",
       "    }\n",
       "\n",
       "    .dataframe tbody tr th {\n",
       "        vertical-align: top;\n",
       "    }\n",
       "\n",
       "    .dataframe thead th {\n",
       "        text-align: right;\n",
       "    }\n",
       "</style>\n",
       "<table border=\"1\" class=\"dataframe\">\n",
       "  <thead>\n",
       "    <tr style=\"text-align: right;\">\n",
       "      <th></th>\n",
       "      <th>item_name</th>\n",
       "      <th>item_count</th>\n",
       "      <th>lat</th>\n",
       "      <th>hour</th>\n",
       "    </tr>\n",
       "  </thead>\n",
       "  <tbody>\n",
       "    <tr>\n",
       "      <th>0</th>\n",
       "      <td>shake</td>\n",
       "      <td>-0.335534</td>\n",
       "      <td>1124 Lake St STE 510, Oak Park, IL 60301</td>\n",
       "      <td>0.781972</td>\n",
       "    </tr>\n",
       "    <tr>\n",
       "      <th>1</th>\n",
       "      <td>burger</td>\n",
       "      <td>-0.335534</td>\n",
       "      <td>1124 Lake St STE 510, Oak Park, IL 60301</td>\n",
       "      <td>0.781972</td>\n",
       "    </tr>\n",
       "    <tr>\n",
       "      <th>2</th>\n",
       "      <td>fries</td>\n",
       "      <td>-0.335534</td>\n",
       "      <td>1124 Lake St STE 510, Oak Park, IL 60301</td>\n",
       "      <td>0.781972</td>\n",
       "    </tr>\n",
       "    <tr>\n",
       "      <th>3</th>\n",
       "      <td>burger</td>\n",
       "      <td>-1.087138</td>\n",
       "      <td>462-514 W Madison St, Chicago, IL 60661</td>\n",
       "      <td>-0.148183</td>\n",
       "    </tr>\n",
       "    <tr>\n",
       "      <th>4</th>\n",
       "      <td>salad</td>\n",
       "      <td>-0.335534</td>\n",
       "      <td>462-514 W Madison St, Chicago, IL 60661</td>\n",
       "      <td>-0.148183</td>\n",
       "    </tr>\n",
       "    <tr>\n",
       "      <th>...</th>\n",
       "      <td>...</td>\n",
       "      <td>...</td>\n",
       "      <td>...</td>\n",
       "      <td>...</td>\n",
       "    </tr>\n",
       "    <tr>\n",
       "      <th>260736</th>\n",
       "      <td>burger</td>\n",
       "      <td>0.416070</td>\n",
       "      <td>20091 South La Grange Road, Frankfort, IL 60423</td>\n",
       "      <td>0.649093</td>\n",
       "    </tr>\n",
       "    <tr>\n",
       "      <th>260737</th>\n",
       "      <td>salad</td>\n",
       "      <td>-1.087138</td>\n",
       "      <td>20091 South La Grange Road, Frankfort, IL 60423</td>\n",
       "      <td>0.649093</td>\n",
       "    </tr>\n",
       "    <tr>\n",
       "      <th>260738</th>\n",
       "      <td>fries</td>\n",
       "      <td>1.167675</td>\n",
       "      <td>20091 South La Grange Road, Frankfort, IL 60423</td>\n",
       "      <td>0.649093</td>\n",
       "    </tr>\n",
       "    <tr>\n",
       "      <th>260739</th>\n",
       "      <td>burger</td>\n",
       "      <td>0.416070</td>\n",
       "      <td>598-560 Clark St, Evanston, IL 60201</td>\n",
       "      <td>-1.609857</td>\n",
       "    </tr>\n",
       "    <tr>\n",
       "      <th>260740</th>\n",
       "      <td>fries</td>\n",
       "      <td>0.416070</td>\n",
       "      <td>598-560 Clark St, Evanston, IL 60201</td>\n",
       "      <td>-1.609857</td>\n",
       "    </tr>\n",
       "  </tbody>\n",
       "</table>\n",
       "<p>260741 rows × 4 columns</p>\n",
       "</div>"
      ],
      "text/plain": [
       "       item_name  item_count                                              lat  \\\n",
       "0          shake   -0.335534         1124 Lake St STE 510, Oak Park, IL 60301   \n",
       "1         burger   -0.335534         1124 Lake St STE 510, Oak Park, IL 60301   \n",
       "2          fries   -0.335534         1124 Lake St STE 510, Oak Park, IL 60301   \n",
       "3         burger   -1.087138          462-514 W Madison St, Chicago, IL 60661   \n",
       "4          salad   -0.335534          462-514 W Madison St, Chicago, IL 60661   \n",
       "...          ...         ...                                              ...   \n",
       "260736    burger    0.416070  20091 South La Grange Road, Frankfort, IL 60423   \n",
       "260737     salad   -1.087138  20091 South La Grange Road, Frankfort, IL 60423   \n",
       "260738     fries    1.167675  20091 South La Grange Road, Frankfort, IL 60423   \n",
       "260739    burger    0.416070             598-560 Clark St, Evanston, IL 60201   \n",
       "260740     fries    0.416070             598-560 Clark St, Evanston, IL 60201   \n",
       "\n",
       "            hour  \n",
       "0       0.781972  \n",
       "1       0.781972  \n",
       "2       0.781972  \n",
       "3      -0.148183  \n",
       "4      -0.148183  \n",
       "...          ...  \n",
       "260736  0.649093  \n",
       "260737  0.649093  \n",
       "260738  0.649093  \n",
       "260739 -1.609857  \n",
       "260740 -1.609857  \n",
       "\n",
       "[260741 rows x 4 columns]"
      ]
     },
     "execution_count": 11,
     "metadata": {},
     "output_type": "execute_result"
    }
   ],
   "source": [
    "X"
   ]
  },
  {
   "cell_type": "code",
   "execution_count": 12,
   "metadata": {},
   "outputs": [],
   "source": [
    "categorical_features_idx = [0,2]"
   ]
  },
  {
   "cell_type": "code",
   "execution_count": 13,
   "metadata": {},
   "outputs": [],
   "source": [
    "df_array=X.values"
   ]
  },
  {
   "cell_type": "code",
   "execution_count": 14,
   "metadata": {
    "scrolled": true
   },
   "outputs": [
    {
     "name": "stdout",
     "output_type": "stream",
     "text": [
      "Initialization method and algorithm are deterministic. Setting n_init to 1.\n",
      "Init: initializing centroids\n",
      "Init: initializing clusters\n",
      "Starting iterations...\n",
      "Run: 1, iteration: 1/10, moves: 50381, ncost: 325819.3199035203\n",
      "Run: 1, iteration: 2/10, moves: 29869, ncost: 310113.78786209726\n",
      "Run: 1, iteration: 3/10, moves: 10848, ncost: 307893.824274858\n",
      "Run: 1, iteration: 4/10, moves: 18192, ncost: 300154.4219522012\n",
      "Run: 1, iteration: 5/10, moves: 31743, ncost: 286118.13550002524\n",
      "Run: 1, iteration: 6/10, moves: 17983, ncost: 278244.61872413737\n",
      "Run: 1, iteration: 7/10, moves: 7468, ncost: 277131.03998972103\n",
      "Run: 1, iteration: 8/10, moves: 234, ncost: 277129.5908438165\n",
      "Run: 1, iteration: 9/10, moves: 0, ncost: 277129.5908438165\n",
      "Init: initializing centroids\n",
      "Init: initializing clusters\n",
      "Starting iterations...\n",
      "Run: 2, iteration: 1/10, moves: 7901, ncost: 273937.3710853173\n",
      "Run: 2, iteration: 2/10, moves: 520, ncost: 273931.28404584137\n",
      "Run: 2, iteration: 3/10, moves: 0, ncost: 273931.28404584137\n",
      "Init: initializing centroids\n",
      "Init: initializing clusters\n",
      "Starting iterations...\n",
      "Run: 3, iteration: 1/10, moves: 53638, ncost: 274103.61486028467\n",
      "Run: 3, iteration: 2/10, moves: 3849, ncost: 273910.9009725398\n",
      "Run: 3, iteration: 3/10, moves: 1217, ncost: 273873.7917889792\n",
      "Run: 3, iteration: 4/10, moves: 3, ncost: 273873.791369441\n",
      "Run: 3, iteration: 5/10, moves: 0, ncost: 273873.791369441\n",
      "Init: initializing centroids\n",
      "Init: initializing clusters\n",
      "Starting iterations...\n",
      "Run: 4, iteration: 1/10, moves: 22712, ncost: 274769.11751371593\n",
      "Run: 4, iteration: 2/10, moves: 5571, ncost: 274291.7515747139\n",
      "Run: 4, iteration: 3/10, moves: 159, ncost: 274291.2242412837\n",
      "Run: 4, iteration: 4/10, moves: 0, ncost: 274291.2242412837\n",
      "Init: initializing centroids\n",
      "Init: initializing clusters\n",
      "Starting iterations...\n",
      "Run: 5, iteration: 1/10, moves: 46553, ncost: 276769.1755735674\n",
      "Run: 5, iteration: 2/10, moves: 13001, ncost: 273526.4208610929\n",
      "Run: 5, iteration: 3/10, moves: 8267, ncost: 273435.95490867813\n",
      "Run: 5, iteration: 4/10, moves: 104, ncost: 273435.8067731276\n",
      "Run: 5, iteration: 5/10, moves: 0, ncost: 273435.8067731276\n",
      "Init: initializing centroids\n",
      "Init: initializing clusters\n",
      "Starting iterations...\n",
      "Run: 6, iteration: 1/10, moves: 41497, ncost: 279131.1560680781\n",
      "Run: 6, iteration: 2/10, moves: 11840, ncost: 277287.2192147081\n",
      "Run: 6, iteration: 3/10, moves: 6393, ncost: 276634.33672807954\n",
      "Run: 6, iteration: 4/10, moves: 2356, ncost: 276563.396893206\n",
      "Run: 6, iteration: 5/10, moves: 2382, ncost: 276472.71424530994\n",
      "Run: 6, iteration: 6/10, moves: 322, ncost: 276469.35835297836\n",
      "Run: 6, iteration: 7/10, moves: 0, ncost: 276469.35835297836\n",
      "Init: initializing centroids\n",
      "Init: initializing clusters\n",
      "Starting iterations...\n",
      "Run: 7, iteration: 1/10, moves: 29521, ncost: 274516.84379707254\n",
      "Run: 7, iteration: 2/10, moves: 3183, ncost: 273857.81145902653\n",
      "Run: 7, iteration: 3/10, moves: 644, ncost: 273847.8972049996\n",
      "Run: 7, iteration: 4/10, moves: 0, ncost: 273847.8972049996\n",
      "Init: initializing centroids\n",
      "Init: initializing clusters\n",
      "Starting iterations...\n",
      "Run: 8, iteration: 1/10, moves: 74108, ncost: 275680.57959606213\n",
      "Run: 8, iteration: 2/10, moves: 9290, ncost: 273847.89720498526\n",
      "Run: 8, iteration: 3/10, moves: 0, ncost: 273847.89720498526\n",
      "Init: initializing centroids\n",
      "Init: initializing clusters\n",
      "Starting iterations...\n",
      "Run: 9, iteration: 1/10, moves: 38830, ncost: 274267.0746940438\n",
      "Run: 9, iteration: 2/10, moves: 848, ncost: 274230.4808642789\n",
      "Run: 9, iteration: 3/10, moves: 0, ncost: 274230.4808642789\n",
      "Init: initializing centroids\n",
      "Init: initializing clusters\n",
      "Starting iterations...\n",
      "Run: 10, iteration: 1/10, moves: 43915, ncost: 270530.7138696265\n",
      "Run: 10, iteration: 2/10, moves: 17123, ncost: 268063.9012209641\n",
      "Run: 10, iteration: 3/10, moves: 702, ncost: 268062.568887096\n",
      "Run: 10, iteration: 4/10, moves: 0, ncost: 268062.568887096\n",
      "Best run was number 10\n"
     ]
    },
    {
     "data": {
      "text/html": [
       "<style>#sk-container-id-1 {color: black;background-color: white;}#sk-container-id-1 pre{padding: 0;}#sk-container-id-1 div.sk-toggleable {background-color: white;}#sk-container-id-1 label.sk-toggleable__label {cursor: pointer;display: block;width: 100%;margin-bottom: 0;padding: 0.3em;box-sizing: border-box;text-align: center;}#sk-container-id-1 label.sk-toggleable__label-arrow:before {content: \"▸\";float: left;margin-right: 0.25em;color: #696969;}#sk-container-id-1 label.sk-toggleable__label-arrow:hover:before {color: black;}#sk-container-id-1 div.sk-estimator:hover label.sk-toggleable__label-arrow:before {color: black;}#sk-container-id-1 div.sk-toggleable__content {max-height: 0;max-width: 0;overflow: hidden;text-align: left;background-color: #f0f8ff;}#sk-container-id-1 div.sk-toggleable__content pre {margin: 0.2em;color: black;border-radius: 0.25em;background-color: #f0f8ff;}#sk-container-id-1 input.sk-toggleable__control:checked~div.sk-toggleable__content {max-height: 200px;max-width: 100%;overflow: auto;}#sk-container-id-1 input.sk-toggleable__control:checked~label.sk-toggleable__label-arrow:before {content: \"▾\";}#sk-container-id-1 div.sk-estimator input.sk-toggleable__control:checked~label.sk-toggleable__label {background-color: #d4ebff;}#sk-container-id-1 div.sk-label input.sk-toggleable__control:checked~label.sk-toggleable__label {background-color: #d4ebff;}#sk-container-id-1 input.sk-hidden--visually {border: 0;clip: rect(1px 1px 1px 1px);clip: rect(1px, 1px, 1px, 1px);height: 1px;margin: -1px;overflow: hidden;padding: 0;position: absolute;width: 1px;}#sk-container-id-1 div.sk-estimator {font-family: monospace;background-color: #f0f8ff;border: 1px dotted black;border-radius: 0.25em;box-sizing: border-box;margin-bottom: 0.5em;}#sk-container-id-1 div.sk-estimator:hover {background-color: #d4ebff;}#sk-container-id-1 div.sk-parallel-item::after {content: \"\";width: 100%;border-bottom: 1px solid gray;flex-grow: 1;}#sk-container-id-1 div.sk-label:hover label.sk-toggleable__label {background-color: #d4ebff;}#sk-container-id-1 div.sk-serial::before {content: \"\";position: absolute;border-left: 1px solid gray;box-sizing: border-box;top: 0;bottom: 0;left: 50%;z-index: 0;}#sk-container-id-1 div.sk-serial {display: flex;flex-direction: column;align-items: center;background-color: white;padding-right: 0.2em;padding-left: 0.2em;position: relative;}#sk-container-id-1 div.sk-item {position: relative;z-index: 1;}#sk-container-id-1 div.sk-parallel {display: flex;align-items: stretch;justify-content: center;background-color: white;position: relative;}#sk-container-id-1 div.sk-item::before, #sk-container-id-1 div.sk-parallel-item::before {content: \"\";position: absolute;border-left: 1px solid gray;box-sizing: border-box;top: 0;bottom: 0;left: 50%;z-index: -1;}#sk-container-id-1 div.sk-parallel-item {display: flex;flex-direction: column;z-index: 1;position: relative;background-color: white;}#sk-container-id-1 div.sk-parallel-item:first-child::after {align-self: flex-end;width: 50%;}#sk-container-id-1 div.sk-parallel-item:last-child::after {align-self: flex-start;width: 50%;}#sk-container-id-1 div.sk-parallel-item:only-child::after {width: 0;}#sk-container-id-1 div.sk-dashed-wrapped {border: 1px dashed gray;margin: 0 0.4em 0.5em 0.4em;box-sizing: border-box;padding-bottom: 0.4em;background-color: white;}#sk-container-id-1 div.sk-label label {font-family: monospace;font-weight: bold;display: inline-block;line-height: 1.2em;}#sk-container-id-1 div.sk-label-container {text-align: center;}#sk-container-id-1 div.sk-container {/* jupyter's `normalize.less` sets `[hidden] { display: none; }` but bootstrap.min.css set `[hidden] { display: none !important; }` so we also need the `!important` here to be able to override the default hidden behavior on the sphinx rendered scikit-learn.org. See: https://github.com/scikit-learn/scikit-learn/issues/21755 */display: inline-block !important;position: relative;}#sk-container-id-1 div.sk-text-repr-fallback {display: none;}</style><div id=\"sk-container-id-1\" class=\"sk-top-container\"><div class=\"sk-text-repr-fallback\"><pre>KPrototypes(gamma=0.5, max_iter=10, n_clusters=4, verbose=2)</pre><b>In a Jupyter environment, please rerun this cell to show the HTML representation or trust the notebook. <br />On GitHub, the HTML representation is unable to render, please try loading this page with nbviewer.org.</b></div><div class=\"sk-container\" hidden><div class=\"sk-item\"><div class=\"sk-estimator sk-toggleable\"><input class=\"sk-toggleable__control sk-hidden--visually\" id=\"sk-estimator-id-1\" type=\"checkbox\" checked><label for=\"sk-estimator-id-1\" class=\"sk-toggleable__label sk-toggleable__label-arrow\">KPrototypes</label><div class=\"sk-toggleable__content\"><pre>KPrototypes(gamma=0.5, max_iter=10, n_clusters=4, verbose=2)</pre></div></div></div></div></div>"
      ],
      "text/plain": [
       "KPrototypes(gamma=0.5, max_iter=10, n_clusters=4, verbose=2)"
      ]
     },
     "execution_count": 14,
     "metadata": {},
     "output_type": "execute_result"
    }
   ],
   "source": [
    "kproto = KPrototypes(n_clusters=4, verbose=2, max_iter=10)\n",
    "kproto.fit(df_array, categorical=categorical_features_idx)"
   ]
  },
  {
   "cell_type": "code",
   "execution_count": 15,
   "metadata": {},
   "outputs": [],
   "source": [
    "clusters = kproto.predict(X, categorical=categorical_features_idx)"
   ]
  },
  {
   "cell_type": "code",
   "execution_count": 16,
   "metadata": {},
   "outputs": [
    {
     "data": {
      "text/html": [
       "<div>\n",
       "<style scoped>\n",
       "    .dataframe tbody tr th:only-of-type {\n",
       "        vertical-align: middle;\n",
       "    }\n",
       "\n",
       "    .dataframe tbody tr th {\n",
       "        vertical-align: top;\n",
       "    }\n",
       "\n",
       "    .dataframe thead th {\n",
       "        text-align: right;\n",
       "    }\n",
       "</style>\n",
       "<table border=\"1\" class=\"dataframe\">\n",
       "  <thead>\n",
       "    <tr style=\"text-align: right;\">\n",
       "      <th></th>\n",
       "      <th>item_name</th>\n",
       "      <th>item_count</th>\n",
       "      <th>lat</th>\n",
       "      <th>hour</th>\n",
       "      <th>cluster</th>\n",
       "    </tr>\n",
       "  </thead>\n",
       "  <tbody>\n",
       "    <tr>\n",
       "      <th>0</th>\n",
       "      <td>shake</td>\n",
       "      <td>2.0</td>\n",
       "      <td>1124 Lake St STE 510, Oak Park, IL 60301</td>\n",
       "      <td>18.0</td>\n",
       "      <td>3</td>\n",
       "    </tr>\n",
       "    <tr>\n",
       "      <th>1</th>\n",
       "      <td>burger</td>\n",
       "      <td>2.0</td>\n",
       "      <td>1124 Lake St STE 510, Oak Park, IL 60301</td>\n",
       "      <td>18.0</td>\n",
       "      <td>3</td>\n",
       "    </tr>\n",
       "    <tr>\n",
       "      <th>2</th>\n",
       "      <td>fries</td>\n",
       "      <td>2.0</td>\n",
       "      <td>1124 Lake St STE 510, Oak Park, IL 60301</td>\n",
       "      <td>18.0</td>\n",
       "      <td>3</td>\n",
       "    </tr>\n",
       "    <tr>\n",
       "      <th>3</th>\n",
       "      <td>burger</td>\n",
       "      <td>1.0</td>\n",
       "      <td>462-514 W Madison St, Chicago, IL 60661</td>\n",
       "      <td>11.0</td>\n",
       "      <td>1</td>\n",
       "    </tr>\n",
       "    <tr>\n",
       "      <th>4</th>\n",
       "      <td>salad</td>\n",
       "      <td>2.0</td>\n",
       "      <td>462-514 W Madison St, Chicago, IL 60661</td>\n",
       "      <td>11.0</td>\n",
       "      <td>1</td>\n",
       "    </tr>\n",
       "    <tr>\n",
       "      <th>...</th>\n",
       "      <td>...</td>\n",
       "      <td>...</td>\n",
       "      <td>...</td>\n",
       "      <td>...</td>\n",
       "      <td>...</td>\n",
       "    </tr>\n",
       "    <tr>\n",
       "      <th>260736</th>\n",
       "      <td>burger</td>\n",
       "      <td>3.0</td>\n",
       "      <td>20091 South La Grange Road, Frankfort, IL 60423</td>\n",
       "      <td>17.0</td>\n",
       "      <td>3</td>\n",
       "    </tr>\n",
       "    <tr>\n",
       "      <th>260737</th>\n",
       "      <td>salad</td>\n",
       "      <td>1.0</td>\n",
       "      <td>20091 South La Grange Road, Frankfort, IL 60423</td>\n",
       "      <td>17.0</td>\n",
       "      <td>1</td>\n",
       "    </tr>\n",
       "    <tr>\n",
       "      <th>260738</th>\n",
       "      <td>fries</td>\n",
       "      <td>4.0</td>\n",
       "      <td>20091 South La Grange Road, Frankfort, IL 60423</td>\n",
       "      <td>17.0</td>\n",
       "      <td>2</td>\n",
       "    </tr>\n",
       "    <tr>\n",
       "      <th>260739</th>\n",
       "      <td>burger</td>\n",
       "      <td>3.0</td>\n",
       "      <td>598-560 Clark St, Evanston, IL 60201</td>\n",
       "      <td>0.0</td>\n",
       "      <td>0</td>\n",
       "    </tr>\n",
       "    <tr>\n",
       "      <th>260740</th>\n",
       "      <td>fries</td>\n",
       "      <td>3.0</td>\n",
       "      <td>598-560 Clark St, Evanston, IL 60201</td>\n",
       "      <td>0.0</td>\n",
       "      <td>0</td>\n",
       "    </tr>\n",
       "  </tbody>\n",
       "</table>\n",
       "<p>260741 rows × 5 columns</p>\n",
       "</div>"
      ],
      "text/plain": [
       "       item_name  item_count                                              lat  \\\n",
       "0          shake         2.0         1124 Lake St STE 510, Oak Park, IL 60301   \n",
       "1         burger         2.0         1124 Lake St STE 510, Oak Park, IL 60301   \n",
       "2          fries         2.0         1124 Lake St STE 510, Oak Park, IL 60301   \n",
       "3         burger         1.0          462-514 W Madison St, Chicago, IL 60661   \n",
       "4          salad         2.0          462-514 W Madison St, Chicago, IL 60661   \n",
       "...          ...         ...                                              ...   \n",
       "260736    burger         3.0  20091 South La Grange Road, Frankfort, IL 60423   \n",
       "260737     salad         1.0  20091 South La Grange Road, Frankfort, IL 60423   \n",
       "260738     fries         4.0  20091 South La Grange Road, Frankfort, IL 60423   \n",
       "260739    burger         3.0             598-560 Clark St, Evanston, IL 60201   \n",
       "260740     fries         3.0             598-560 Clark St, Evanston, IL 60201   \n",
       "\n",
       "        hour  cluster  \n",
       "0       18.0        3  \n",
       "1       18.0        3  \n",
       "2       18.0        3  \n",
       "3       11.0        1  \n",
       "4       11.0        1  \n",
       "...      ...      ...  \n",
       "260736  17.0        3  \n",
       "260737  17.0        1  \n",
       "260738  17.0        2  \n",
       "260739   0.0        0  \n",
       "260740   0.0        0  \n",
       "\n",
       "[260741 rows x 5 columns]"
      ]
     },
     "execution_count": 16,
     "metadata": {},
     "output_type": "execute_result"
    }
   ],
   "source": [
    "X['cluster'] = list(clusters)\n",
    "X[[ 'item_count','hour']] = sc_dfa.inverse_transform(X[['item_count','hour']])\n",
    "X"
   ]
  },
  {
   "cell_type": "code",
   "execution_count": 35,
   "metadata": {},
   "outputs": [
    {
     "data": {
      "text/plain": [
       "<AxesSubplot: >"
      ]
     },
     "execution_count": 35,
     "metadata": {},
     "output_type": "execute_result"
    },
    {
     "data": {
      "image/png": "[encoded data removed]",
      "text/plain": [
       "<Figure size 432x288 with 1 Axes>"
      ]
     },
     "metadata": {
      "needs_background": "light"
     },
     "output_type": "display_data"
    }
   ],
   "source": [
    "X['cluster'].value_counts().plot(kind='bar')"
   ]
  },
  {
   "cell_type": "code",
   "execution_count": 18,
   "metadata": {
    "scrolled": true
   },
   "outputs": [],
   "source": [
    "C1=X[X['cluster']==0]\n",
    "C2=X[X['cluster']==1]\n",
    "C3=X[X['cluster']==2]\n",
    "C4=X[X['cluster']==3]\n"
   ]
  },
  {
   "cell_type": "code",
   "execution_count": 19,
   "metadata": {},
   "outputs": [],
   "source": [
    "C1.to_csv(\"/Users/Cimon/Desktop/marketing analytics/C1_hour.csv\")"
   ]
  },
  {
   "cell_type": "code",
   "execution_count": 20,
   "metadata": {},
   "outputs": [],
   "source": [
    "C2.to_csv(\"/Users/Cimon/Desktop/marketing analytics/C2_hour.csv\")\n",
    "C3.to_csv(\"/Users/Cimon/Desktop/marketing analytics/C3_hour.csv\")\n",
    "C4.to_csv(\"/Users/Cimon/Desktop/marketing analytics/C4_hour.csv\")\n"
   ]
  },
  {
   "cell_type": "code",
   "execution_count": 37,
   "metadata": {},
   "outputs": [
    {
     "data": {
      "text/plain": [
       "598-560 Clark St, Evanston, IL 60201               24986\n",
       "6014 S Cottage Grove Ave, Chicago, IL 60637        24726\n",
       "259 E Erie St, Chicago, IL 60611                    2035\n",
       "S Clark St, Chicago, IL 60603                       2007\n",
       "20b E Randolph St, Chicago, IL 60601                1991\n",
       "1124 Lake St STE 510, Oak Park, IL 60301            1918\n",
       "20091 South La Grange Road, Frankfort, IL 60423     1868\n",
       "5127 Main St, Downers Grove, IL 60515               1862\n",
       "462-514 W Madison St, Chicago, IL 60661             1300\n",
       "Name: lat, dtype: int64"
      ]
     },
     "execution_count": 37,
     "metadata": {},
     "output_type": "execute_result"
    }
   ],
   "source": [
    "C1['lat'].value_counts()"
   ]
  },
  {
   "cell_type": "code",
   "execution_count": 38,
   "metadata": {},
   "outputs": [
    {
     "data": {
      "text/plain": [
       "20b E Randolph St, Chicago, IL 60601               11777\n",
       "S Clark St, Chicago, IL 60603                       9634\n",
       "259 E Erie St, Chicago, IL 60611                    9556\n",
       "462-514 W Madison St, Chicago, IL 60661             9467\n",
       "5127 Main St, Downers Grove, IL 60515               5065\n",
       "1124 Lake St STE 510, Oak Park, IL 60301            5021\n",
       "20091 South La Grange Road, Frankfort, IL 60423     5008\n",
       "6014 S Cottage Grove Ave, Chicago, IL 60637         4993\n",
       "598-560 Clark St, Evanston, IL 60201                4891\n",
       "Name: lat, dtype: int64"
      ]
     },
     "execution_count": 38,
     "metadata": {},
     "output_type": "execute_result"
    }
   ],
   "source": [
    "C2['lat'].value_counts()"
   ]
  },
  {
   "cell_type": "code",
   "execution_count": 39,
   "metadata": {},
   "outputs": [
    {
     "data": {
      "text/plain": [
       "1124 Lake St STE 510, Oak Park, IL 60301           15741\n",
       "20091 South La Grange Road, Frankfort, IL 60423    15456\n",
       "5127 Main St, Downers Grove, IL 60515              15304\n",
       "259 E Erie St, Chicago, IL 60611                    3511\n",
       "598-560 Clark St, Evanston, IL 60201                3489\n",
       "6014 S Cottage Grove Ave, Chicago, IL 60637         3430\n",
       "S Clark St, Chicago, IL 60603                       2944\n",
       "462-514 W Madison St, Chicago, IL 60661             2885\n",
       "20b E Randolph St, Chicago, IL 60601                2829\n",
       "Name: lat, dtype: int64"
      ]
     },
     "execution_count": 39,
     "metadata": {},
     "output_type": "execute_result"
    }
   ],
   "source": [
    "C3['lat'].value_counts()"
   ]
  },
  {
   "cell_type": "code",
   "execution_count": 40,
   "metadata": {},
   "outputs": [
    {
     "data": {
      "text/plain": [
       "20091 South La Grange Road, Frankfort, IL 60423    11751\n",
       "5127 Main St, Downers Grove, IL 60515              11316\n",
       "1124 Lake St STE 510, Oak Park, IL 60301           11210\n",
       "259 E Erie St, Chicago, IL 60611                    6980\n",
       "462-514 W Madison St, Chicago, IL 60661             6639\n",
       "S Clark St, Chicago, IL 60603                       6631\n",
       "20b E Randolph St, Chicago, IL 60601                4660\n",
       "598-560 Clark St, Evanston, IL 60201                3977\n",
       "6014 S Cottage Grove Ave, Chicago, IL 60637         3883\n",
       "Name: lat, dtype: int64"
      ]
     },
     "execution_count": 40,
     "metadata": {},
     "output_type": "execute_result"
    }
   ],
   "source": [
    "C4['lat'].value_counts()"
   ]
  },
  {
   "cell_type": "code",
   "execution_count": 21,
   "metadata": {
    "scrolled": false
   },
   "outputs": [
    {
     "data": {
      "text/plain": [
       "fries     26838\n",
       "burger    26508\n",
       "shake      8054\n",
       "salad      1293\n",
       "Name: item_name, dtype: int64"
      ]
     },
     "execution_count": 21,
     "metadata": {},
     "output_type": "execute_result"
    }
   ],
   "source": [
    "C1['item_name'].value_counts()"
   ]
  },
  {
   "cell_type": "code",
   "execution_count": 22,
   "metadata": {},
   "outputs": [
    {
     "data": {
      "text/plain": [
       "salad     27667\n",
       "fries     15981\n",
       "burger    14352\n",
       "shake      7412\n",
       "Name: item_name, dtype: int64"
      ]
     },
     "execution_count": 22,
     "metadata": {},
     "output_type": "execute_result"
    }
   ],
   "source": [
    "C2['item_name'].value_counts()"
   ]
  },
  {
   "cell_type": "code",
   "execution_count": 34,
   "metadata": {},
   "outputs": [
    {
     "data": {
      "text/plain": [
       "fries     22111\n",
       "burger    10823\n",
       "salad      9688\n",
       "shake      6688\n",
       "Name: item_name, dtype: int64"
      ]
     },
     "execution_count": 34,
     "metadata": {},
     "output_type": "execute_result"
    }
   ],
   "source": [
    "C3['item_name'].value_counts()"
   ]
  },
  {
   "cell_type": "code",
   "execution_count": 35,
   "metadata": {},
   "outputs": [
    {
     "data": {
      "text/plain": [
       "fries     24152\n",
       "burger    16707\n",
       "shake     13552\n",
       "salad      4661\n",
       "Name: item_name, dtype: int64"
      ]
     },
     "execution_count": 35,
     "metadata": {},
     "output_type": "execute_result"
    }
   ],
   "source": [
    "C4['item_name'].value_counts()"
   ]
  },
  {
   "cell_type": "code",
   "execution_count": 41,
   "metadata": {},
   "outputs": [
    {
     "data": {
      "text/plain": [
       "0.0    50616\n",
       "1.0    12077\n",
       "Name: hour, dtype: int64"
      ]
     },
     "execution_count": 41,
     "metadata": {},
     "output_type": "execute_result"
    }
   ],
   "source": [
    "C1['hour'].value_counts()"
   ]
  },
  {
   "cell_type": "code",
   "execution_count": 42,
   "metadata": {
    "scrolled": true
   },
   "outputs": [
    {
     "data": {
      "text/plain": [
       "12.0    18474\n",
       "13.0    11783\n",
       "11.0    11634\n",
       "23.0     6980\n",
       "18.0     4670\n",
       "19.0     3135\n",
       "14.0     2924\n",
       "17.0     2916\n",
       "16.0      980\n",
       "20.0      878\n",
       "15.0      524\n",
       "21.0      285\n",
       "22.0      229\n",
       "Name: hour, dtype: int64"
      ]
     },
     "execution_count": 42,
     "metadata": {},
     "output_type": "execute_result"
    }
   ],
   "source": [
    "C2['hour'].value_counts()"
   ]
  },
  {
   "cell_type": "code",
   "execution_count": 32,
   "metadata": {},
   "outputs": [
    {
     "data": {
      "text/plain": [
       "salad     27667\n",
       "fries     15981\n",
       "burger    14352\n",
       "shake      7412\n",
       "Name: item_name, dtype: int64"
      ]
     },
     "execution_count": 32,
     "metadata": {},
     "output_type": "execute_result"
    }
   ],
   "source": [
    "C2['item_name'].value_counts()"
   ]
  },
  {
   "cell_type": "code",
   "execution_count": 43,
   "metadata": {
    "scrolled": true
   },
   "outputs": [
    {
     "data": {
      "text/plain": [
       "18.0    21810\n",
       "19.0    13638\n",
       "17.0    13604\n",
       "20.0     3536\n",
       "16.0     3168\n",
       "12.0     2267\n",
       "0.0      2203\n",
       "11.0     1350\n",
       "13.0     1288\n",
       "23.0     1007\n",
       "1.0       506\n",
       "15.0      407\n",
       "14.0      382\n",
       "21.0      380\n",
       "22.0       43\n",
       "Name: hour, dtype: int64"
      ]
     },
     "execution_count": 43,
     "metadata": {},
     "output_type": "execute_result"
    }
   ],
   "source": [
    "C3['hour'].value_counts()"
   ]
  },
  {
   "cell_type": "code",
   "execution_count": 44,
   "metadata": {
    "scrolled": true
   },
   "outputs": [
    {
     "data": {
      "text/plain": [
       "18.0    14390\n",
       "12.0     9708\n",
       "19.0     9337\n",
       "17.0     8795\n",
       "13.0     6414\n",
       "11.0     6048\n",
       "23.0     4529\n",
       "16.0     2438\n",
       "20.0     2391\n",
       "14.0     1899\n",
       "15.0      532\n",
       "21.0      371\n",
       "22.0      195\n",
       "Name: hour, dtype: int64"
      ]
     },
     "execution_count": 44,
     "metadata": {},
     "output_type": "execute_result"
    }
   ],
   "source": [
    "C4['hour'].value_counts()"
   ]
  },
  {
   "cell_type": "code",
   "execution_count": 29,
   "metadata": {},
   "outputs": [
    {
     "data": {
      "text/plain": [
       "18.0    21810\n",
       "19.0    13638\n",
       "17.0    13604\n",
       "20.0     3536\n",
       "16.0     3168\n",
       "12.0     2267\n",
       "0.0      2203\n",
       "11.0     1350\n",
       "13.0     1288\n",
       "23.0     1007\n",
       "1.0       506\n",
       "15.0      407\n",
       "14.0      382\n",
       "21.0      380\n",
       "22.0       43\n",
       "Name: hour, dtype: int64"
      ]
     },
     "execution_count": 29,
     "metadata": {},
     "output_type": "execute_result"
    }
   ],
   "source": [
    "C3['hour'].value_counts()"
   ]
  },
  {
   "cell_type": "code",
   "execution_count": null,
   "metadata": {},
   "outputs": [],
   "source": []
  }
 ],
 "metadata": {
  "kernelspec": {
   "display_name": "Python 3",
   "language": "python",
   "name": "python3"
  },
  "language_info": {
   "codemirror_mode": {
    "name": "ipython",
    "version": 3
   },
   "file_extension": ".py",
   "mimetype": "text/x-python",
   "name": "python",
   "nbconvert_exporter": "python",
   "pygments_lexer": "ipython3",
   "version": "3.8.5"
  }
 },
 "nbformat": 4,
 "nbformat_minor": 5
}
